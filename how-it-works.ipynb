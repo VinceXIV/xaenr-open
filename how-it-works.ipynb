{
 "cells": [
  {
   "cell_type": "code",
   "execution_count": 1,
   "metadata": {},
   "outputs": [],
   "source": [
    "from digits_module import Digit\n",
    "from sample_class_module import Sample\n",
    "from perspective_module import Perspective\n",
    "from associations_module import Associations"
   ]
  },
  {
   "attachments": {},
   "cell_type": "markdown",
   "metadata": {},
   "source": [
    "So, I came up with an algorithm for image recognition that doesn't involve any learning or modeling. I wrote about the intuition behind everything I was doing, which you can find in the [how it works](https://xaenr.com/how-it-works). It is not yet completed it yet but I will soon. If you went through it, you have an idea about the theory behind the approach.\n",
    "\n",
    "In this discussion, I will be taking you through the classes, and the methods that you could use to experiment on what I have done and hopefully add or modify a few things to make it more robust, efficient, and able to handle bigger images\n",
    "\n",
    "In summary, the whole thing was done using the following steps;\n",
    "1. Get a two dimensional array to represent the sample\n",
    "2. Transform the element values in the array\n",
    "3. Generate an array of Perspectives corresponding to the original sample\n",
    "4. Compare the arrays of perspectives. This is analogous to comparing two samples\n",
    "\n",
    "Throughout this discussion, you'll notice I'll be using terms such as \"sample\", \"element\", among other terms a lot. Here's their definition;\n",
    "* **sample**: a two dimensional array of numbers. Could be obtained from a picture or any other source\n",
    "* **element**: a point in the two dimensional array I have mentioned above. An example of an element is (1, 1)\n",
    "* **angle**: I have used angle and orientation interchangeably. Whenever you see \"angle\" think of orientation, as it only shows how verticle or horizontal an element is"
   ]
  },
  {
   "attachments": {},
   "cell_type": "markdown",
   "metadata": {},
   "source": [
    "## Step 1: Get the two dimensional array"
   ]
  },
  {
   "attachments": {},
   "cell_type": "markdown",
   "metadata": {},
   "source": [
    "There's nothing much to say here.\n",
    "\n",
    "For the website, these were the doodles. Soon, it will be big images. For testing, I used MNIST digits extensively. I developed two classes; **Digit** from *digits_module* that uses data from MNIST and **Sample** from *sample_class_module*."
   ]
  },
  {
   "attachments": {},
   "cell_type": "markdown",
   "metadata": {},
   "source": [
    "### 1.1 Getting a sample digit"
   ]
  },
  {
   "attachments": {},
   "cell_type": "markdown",
   "metadata": {},
   "source": [
    "The default digit is zero"
   ]
  },
  {
   "cell_type": "code",
   "execution_count": 2,
   "metadata": {},
   "outputs": [
    {
     "data": {
      "image/png": "[encoded data removed]",
      "text/plain": [
       "<Figure size 432x288 with 1 Axes>"
      ]
     },
     "metadata": {
      "needs_background": "light"
     },
     "output_type": "display_data"
    }
   ],
   "source": [
    "my_digit = Digit()\n",
    "my_digit.show()"
   ]
  },
  {
   "attachments": {},
   "cell_type": "markdown",
   "metadata": {},
   "source": [
    "You are allowed to pick a different digit"
   ]
  },
  {
   "cell_type": "code",
   "execution_count": 3,
   "metadata": {},
   "outputs": [
    {
     "data": {
      "image/png": "[encoded data removed]",
      "text/plain": [
       "<Figure size 432x288 with 1 Axes>"
      ]
     },
     "metadata": {
      "needs_background": "light"
     },
     "output_type": "display_data"
    }
   ],
   "source": [
    "my_digit = Digit(7)\n",
    "my_digit.show()"
   ]
  },
  {
   "cell_type": "markdown",
   "metadata": {},
   "source": [
    "Or a different sample of the same digit"
   ]
  },
  {
   "cell_type": "code",
   "execution_count": 4,
   "metadata": {},
   "outputs": [
    {
     "data": {
      "image/png": "[encoded data removed]",
      "text/plain": [
       "<Figure size 432x288 with 1 Axes>"
      ]
     },
     "metadata": {
      "needs_background": "light"
     },
     "output_type": "display_data"
    }
   ],
   "source": [
    "my_digit = Digit(7, 10)\n",
    "my_digit.show()"
   ]
  },
  {
   "cell_type": "markdown",
   "metadata": {},
   "source": [
    "We will be using the two-dimensional array for the rest of the process though, so that's really what we need. Here, I extract the two dimensional array.set\n",
    "\n",
    "I should mention that I have created a lot of methods such as the *Digit.show()* used above just to guide in viewing what is currently being done. We can use that to judge whether whatever we are doing is providing the kind of results we were expecting"
   ]
  },
  {
   "cell_type": "code",
   "execution_count": 5,
   "metadata": {},
   "outputs": [
    {
     "data": {
      "text/plain": [
       "array([[  0,   0,   0,   0,   0,   0,   0,   0,   0,   0,   0,   0,   0,\n",
       "          0,   0,   0,   0,   0,   0,   0,   0,   0,   0,   0,   0,   0,\n",
       "          0,   0],\n",
       "       [  0,   0,   0,   0,   0,   0,   0,   0,   0,   0,   0,   0,   0,\n",
       "          0,   0,   0,   0,   0,   0,   0,   0,   0,   0,   0,   0,   0,\n",
       "          0,   0],\n",
       "       [  0,   0,   0,   0,   0,   0,   0,   0,   0,   0,   0,   0,   0,\n",
       "          0,   0,   0,   0,   0,   0,   0,   0,   0,   0,   0,   0,   0,\n",
       "          0,   0],\n",
       "       [  0,   0,   0,   0,   0,   0,   0,   0,   0,   0,   0,   0,   0,\n",
       "          0,   0,   0,   0,   0,   0,   0,   0,   0,   0,   0,   0,   0,\n",
       "          0,   0],\n",
       "       [  0,   0,   0,   0,   0,   0,   0,   0,   0,   0,   0,   0,   0,\n",
       "          0,   0,   0,   0,   0,   0,   0,   0,   0,   0,   0,   0,   0,\n",
       "          0,   0],\n",
       "       [  0,   0,   0,   0,   0,   0,   0,   0,   0,   0,   0,   0,   0,\n",
       "          0,   0,   0,   0,   0,   0,   0,   0,   0,   0,   0,   0,   0,\n",
       "          0,   0],\n",
       "       [  0,   0,   0,   0,   0,   0,   0,   0,   0,   0,   0,   0,   0,\n",
       "          0,   0,   0,   0,   0,   0,   0,   0,   0,   0,   0,   0,   0,\n",
       "          0,   0],\n",
       "       [  0,   0,   0,   0,   0,   0,   0,   0,   0,   0,   0,   0,   0,\n",
       "          0,   0,   0,   0,   0,   0,   0,   0,   0,   0,   0,   0,   0,\n",
       "          0,   0],\n",
       "       [  0,   0,   0,   0,   0,   0,   0,   0,   0,   0,  38, 113, 113,\n",
       "        113, 114, 238, 253, 253, 253, 255, 206,  88,   0,   0,   0,   0,\n",
       "          0,   0],\n",
       "       [  0,   0,   0,   0,   0,   0,   0,  57,  85, 147, 234, 252, 252,\n",
       "        252, 253, 252, 252, 252, 252, 253, 252, 246,  75,   0,   0,   0,\n",
       "          0,   0],\n",
       "       [  0,   0,   0,   0,   0,  67, 197, 234, 252, 253, 252, 252, 252,\n",
       "        252, 196, 195, 195, 195, 195, 253, 252, 252,  84,   0,   0,   0,\n",
       "          0,   0],\n",
       "       [  0,   0,   0,   0,   0,  85, 252, 252, 252, 225, 223, 114,  84,\n",
       "         84,   0,   0,   0,   0,  16, 253, 252, 214,  28,   0,   0,   0,\n",
       "          0,   0],\n",
       "       [  0,   0,   0,   0,   0,  38, 221, 157, 112,   0,   0,   0,   0,\n",
       "          0,   0,   0,   0,  16, 203, 253, 252, 118,   0,   0,   0,   0,\n",
       "          0,   0],\n",
       "       [  0,   0,   0,   0,   0,   0,   0,   0,   0,   0,   0,   0,   0,\n",
       "          0,   0,   0,  26, 207, 253, 255, 168,   0,   0,   0,   0,   0,\n",
       "          0,   0],\n",
       "       [  0,   0,   0,   0,   0,   0,   0,   0,   0,   0,   0,   0,   0,\n",
       "          0,   0,   0, 104, 252, 252, 215,  33,   0,   0,   0,   0,   0,\n",
       "          0,   0],\n",
       "       [  0,   0,   0,   0,   0,   0,   0,   0,   0,   0,   0,   0,   0,\n",
       "          0,   0,  67, 240, 252, 220,  31,   0,   0,   0,   0,   0,   0,\n",
       "          0,   0],\n",
       "       [  0,   0,   0,   0,   0,   0,   0,   0,   0,   0,   0,   0,   0,\n",
       "          0,  29, 181, 252, 217,  37,   0,   0,   0,   0,   0,   0,   0,\n",
       "          0,   0],\n",
       "       [  0,   0,   0,   0,   0,   0,   0,   0,   0,   0,   0,   0,   0,\n",
       "          0, 253, 252, 252,  84,   0,   0,   0,   0,   0,   0,   0,   0,\n",
       "          0,   0],\n",
       "       [  0,   0,   0,   0,   0,   0,   0,   0,   0,   0,   0,   0,  76,\n",
       "        191, 255, 215, 110,   0,   0,   0,   0,   0,   0,   0,   0,   0,\n",
       "          0,   0],\n",
       "       [  0,   0,   0,   0,   0,   0,   0,   0,   0,   0,   0,  19, 196,\n",
       "        252, 253, 121,   0,   0,   0,   0,   0,   0,   0,   0,   0,   0,\n",
       "          0,   0],\n",
       "       [  0,   0,   0,   0,   0,   0,   0,   0,   0,   0,  67, 209, 252,\n",
       "        252,  56,   6,   0,   0,   0,   0,   0,   0,   0,   0,   0,   0,\n",
       "          0,   0],\n",
       "       [  0,   0,   0,   0,   0,   0,   0,   0,   0,  29, 181, 252, 217,\n",
       "         84,   0,   0,   0,   0,   0,   0,   0,   0,   0,   0,   0,   0,\n",
       "          0,   0],\n",
       "       [  0,   0,   0,   0,   0,   0,   0,   0,   0, 253, 252, 252,  84,\n",
       "          0,   0,   0,   0,   0,   0,   0,   0,   0,   0,   0,   0,   0,\n",
       "          0,   0],\n",
       "       [  0,   0,   0,   0,   0,   0,   0,  13, 191, 255, 215,  31,   0,\n",
       "          0,   0,   0,   0,   0,   0,   0,   0,   0,   0,   0,   0,   0,\n",
       "          0,   0],\n",
       "       [  0,   0,   0,   0,   0,   0,   0, 154, 252, 253, 121,   0,   0,\n",
       "          0,   0,   0,   0,   0,   0,   0,   0,   0,   0,   0,   0,   0,\n",
       "          0,   0],\n",
       "       [  0,   0,   0,   0,   0,   0,  13, 187, 252, 133,   6,   0,   0,\n",
       "          0,   0,   0,   0,   0,   0,   0,   0,   0,   0,   0,   0,   0,\n",
       "          0,   0],\n",
       "       [  0,   0,   0,   0,   0,   0,  57, 252, 252,   0,   0,   0,   0,\n",
       "          0,   0,   0,   0,   0,   0,   0,   0,   0,   0,   0,   0,   0,\n",
       "          0,   0],\n",
       "       [  0,   0,   0,   0,   0,   0,  57, 252, 252,   0,   0,   0,   0,\n",
       "          0,   0,   0,   0,   0,   0,   0,   0,   0,   0,   0,   0,   0,\n",
       "          0,   0]], dtype=int64)"
      ]
     },
     "execution_count": 5,
     "metadata": {},
     "output_type": "execute_result"
    }
   ],
   "source": [
    "digit_0 = my_digit.get_digit_array()\n",
    "digit_0"
   ]
  },
  {
   "attachments": {},
   "cell_type": "markdown",
   "metadata": {},
   "source": [
    "## Step 2: Transforming element values"
   ]
  },
  {
   "attachments": {},
   "cell_type": "markdown",
   "metadata": {},
   "source": [
    "Recall from [this discussion](https://xaenr.com/how-it-works) that I need to make the elements related in a way that forces them to be mapped in a new image to regions that keep them as close as they were in the original image. One of the things that I did to enable this is through transforming element values by calculating \"angle\".\n",
    "\n",
    "Another thing that happens here is that I am discarding all elements that are not an edge. These elements do not provide any information, and discarding them reduces the procesing power needed to perform the later stages\n",
    "\n",
    "The class **Sample** from *sample_class_module* provides a lot of functionalities for this. Here are some of the examples"
   ]
  },
  {
   "cell_type": "code",
   "execution_count": 6,
   "metadata": {},
   "outputs": [],
   "source": [
    "my_sample = Sample(my_digit.get_digit_array())"
   ]
  },
  {
   "attachments": {},
   "cell_type": "markdown",
   "metadata": {},
   "source": [
    "One of the main things that happen in the Sample object is conversion of the plain values into into values denoting orientation of the elements. When we do a `my_sample.show()`. We can see the orientation of each of the element making up the sample.\n",
    "\n",
    "The dark purple are of horizontal orientation, while the yellow ones are of vertical orientation. The greenish values are of diagonal orientation"
   ]
  },
  {
   "cell_type": "code",
   "execution_count": 7,
   "metadata": {},
   "outputs": [
    {
     "data": {
      "image/png": "[encoded data removed]",
      "text/plain": [
       "<Figure size 432x288 with 1 Axes>"
      ]
     },
     "metadata": {
      "needs_background": "light"
     },
     "output_type": "display_data"
    }
   ],
   "source": [
    "my_sample.show()"
   ]
  },
  {
   "attachments": {},
   "cell_type": "markdown",
   "metadata": {},
   "source": [
    "There's also a method to show to show the distribution of the orientation values above. From the figure below, we can see that most of the elements have a diagonal orientation (around 50). An orientation value of 1 represents vertical, while 0 means it is horizontal. In that regard, we also see that there are more elements with a horizontal orientation compared to those with vertical ones\n",
    "\n",
    "If you are interested in the whys and hows regarding my calculations of the orientation, check out [this](https://github.com/VinceXIV/x--arctan-test) and [this](https://github.com/VinceXIV/x--arctan-test-2) repos"
   ]
  },
  {
   "cell_type": "code",
   "execution_count": 8,
   "metadata": {},
   "outputs": [
    {
     "data": {
      "image/png": "[encoded data removed]",
      "text/plain": [
       "<Figure size 432x288 with 1 Axes>"
      ]
     },
     "metadata": {
      "needs_background": "light"
     },
     "output_type": "display_data"
    }
   ],
   "source": [
    "my_sample.summarize()"
   ]
  },
  {
   "cell_type": "markdown",
   "metadata": {},
   "source": [
    "We could also thinify our samples. I did this this reduce the number of elements I have to work with because at this time the algorithm is computationally intensive, and that's one of the things I could do to reduce the operation. It is, however, not the ideal approach, and I'm still thinking of something to do"
   ]
  },
  {
   "cell_type": "code",
   "execution_count": 9,
   "metadata": {},
   "outputs": [
    {
     "data": {
      "image/png": "[encoded data removed]",
      "text/plain": [
       "<Figure size 432x288 with 1 Axes>"
      ]
     },
     "metadata": {
      "needs_background": "light"
     },
     "output_type": "display_data"
    }
   ],
   "source": [
    "my_sample = Sample(my_digit.get_digit_array(), thinify=True)\n",
    "my_sample.show()"
   ]
  },
  {
   "cell_type": "markdown",
   "metadata": {},
   "source": [
    "## Step 3: Generating an Array of Perspectives"
   ]
  },
  {
   "cell_type": "markdown",
   "metadata": {},
   "source": [
    "Recall that a perspective shows the image from the perspective of a single element. We create a perspective as shown below"
   ]
  },
  {
   "cell_type": "code",
   "execution_count": 10,
   "metadata": {},
   "outputs": [],
   "source": [
    "# The element by which we will viewing the whole from its perspective\n",
    "# The Sample object provides a method for getting all elements making it up, so I am using that and picking the first element\n",
    "# In doing so, I am avoiding using, like the element (1, 1) which is not guaranteed to exist. See, during the transformation step\n",
    "# above, we only used edges. All elements that did not represent an edge were discarded. Thus, they are not guaranteed to be\n",
    "# part of the sample elements\n",
    "refElement = my_sample.getSampleElements()[0]\n",
    "digit_array = my_sample.get_digit_array() \n",
    "\n",
    "perspective1 = Perspective(refElement=refElement, sampleImage= digit_array, includeDistance=True)"
   ]
  },
  {
   "cell_type": "markdown",
   "metadata": {},
   "source": [
    "The **Perspective** object, like some of the objects discussed up to this point, has some methods that help us know what is going on. Here are a few"
   ]
  },
  {
   "cell_type": "code",
   "execution_count": 11,
   "metadata": {},
   "outputs": [
    {
     "data": {
      "image/png": "[encoded data removed]",
      "text/plain": [
       "<Figure size 432x288 with 1 Axes>"
      ]
     },
     "metadata": {
      "needs_background": "light"
     },
     "output_type": "display_data"
    }
   ],
   "source": [
    "# Call this method to see our element. The whole (or part) of the whole sample will be seen from this element's perspective\n",
    "perspective1.showElement()"
   ]
  },
  {
   "cell_type": "code",
   "execution_count": 12,
   "metadata": {},
   "outputs": [
    {
     "data": {
      "image/png": "[encoded data removed]",
      "text/plain": [
       "<Figure size 792x216 with 3 Axes>"
      ]
     },
     "metadata": {
      "needs_background": "light"
     },
     "output_type": "display_data"
    }
   ],
   "source": [
    "# In the first figure, the dark purple colors are elements whose angles are close to the angle of our reference element\n",
    "# In the second figure, elements close to the reference element are purplish, while those further from it are yellow\n",
    "# In the third image, diagnonal elements relative to the reference element are purplish.\n",
    "# NOTE, in image 3 below, diagonal elements relative to the reference element are also diagonal, that is not always the case,\n",
    "# take a look at the perspective shown next to see what is going on\n",
    "\n",
    "perspective1.showPerspective()"
   ]
  },
  {
   "cell_type": "code",
   "execution_count": 13,
   "metadata": {},
   "outputs": [
    {
     "data": {
      "image/png": "[encoded data removed]",
      "text/plain": [
       "<Figure size 792x216 with 3 Axes>"
      ]
     },
     "metadata": {
      "needs_background": "light"
     },
     "output_type": "display_data"
    }
   ],
   "source": [
    "# The angle/orientation of the ref element in the sample above was 50. You can see it in the title fr the first image\n",
    "# Since angles here range from 0 - 100 (you can set this while creating the Sample object), that makes its orientation to be diagonal\n",
    "# As such, elements that sit diagonal with respect to it have the lowest difference. Take a look at the same figure below when we use\n",
    "# an element with different orientation\n",
    "\n",
    "refElement = my_sample.getSampleElements()[3]\n",
    "digit_array = my_sample.get_digit_array() \n",
    "\n",
    "perspective2 = Perspective(refElement=refElement, sampleImage= digit_array, includeDistance=True)\n",
    "perspective2.showPerspective()"
   ]
  },
  {
   "cell_type": "markdown",
   "metadata": {},
   "source": [
    "The **Perspective** object also offers us a method to compare one perspective with another. So far we have created two perspectives from the sample we have. To recap, here are the two perspectives"
   ]
  },
  {
   "cell_type": "code",
   "execution_count": 14,
   "metadata": {},
   "outputs": [
    {
     "data": {
      "image/png": "[encoded data removed]",
      "text/plain": [
       "<Figure size 432x288 with 1 Axes>"
      ]
     },
     "metadata": {
      "needs_background": "light"
     },
     "output_type": "display_data"
    }
   ],
   "source": [
    "perspective1.showElement()"
   ]
  },
  {
   "cell_type": "code",
   "execution_count": 15,
   "metadata": {},
   "outputs": [
    {
     "data": {
      "image/png": "[encoded data removed]",
      "text/plain": [
       "<Figure size 432x288 with 1 Axes>"
      ]
     },
     "metadata": {
      "needs_background": "light"
     },
     "output_type": "display_data"
    }
   ],
   "source": [
    "perspective2.showElement()"
   ]
  },
  {
   "cell_type": "markdown",
   "metadata": {},
   "source": [
    "When we compare two perspectives, the result is another object of type **Compare** that also offers methods for examining the comparison results. Here's what I am talking about"
   ]
  },
  {
   "cell_type": "code",
   "execution_count": 16,
   "metadata": {},
   "outputs": [
    {
     "data": {
      "image/png": "[encoded data removed]",
      "text/plain": [
       "<Figure size 432x288 with 1 Axes>"
      ]
     },
     "metadata": {
      "needs_background": "light"
     },
     "output_type": "display_data"
    }
   ],
   "source": [
    "# First, lets compare a perspective by itself\n",
    "# The purplish areas are the best match. This is what we expect.\n",
    "# Since the element is at the edge, we expect it to better match the elements at the edge\n",
    "\n",
    "comp = perspective1.compare(perspective1)\n",
    "comp.showMatch()"
   ]
  },
  {
   "attachments": {},
   "cell_type": "markdown",
   "metadata": {},
   "source": [
    "Of the purple elements, there is one that matches the ref element the most based on the principles I discussed [here](https://xaenr.com/how-it-works).\n",
    "\n",
    "The **Compare** objects has various methods to get the distance between the two perspective showing how similar or different they are. These methods include *getAverageCost*, *getMedianCost*, etc. Please explore the **Compare** class from *compare_module*"
   ]
  },
  {
   "cell_type": "code",
   "execution_count": 17,
   "metadata": {},
   "outputs": [
    {
     "data": {
      "text/plain": [
       "0.0"
      ]
     },
     "execution_count": 17,
     "metadata": {},
     "output_type": "execute_result"
    }
   ],
   "source": [
    "# Here's the result, we can see that perspective1 is same as perspective1. The distance/difference between them is zero \n",
    "comp = perspective1.compare(perspective1)\n",
    "comp.getMedianCost()"
   ]
  },
  {
   "cell_type": "code",
   "execution_count": 18,
   "metadata": {},
   "outputs": [
    {
     "data": {
      "text/plain": [
       "36.0"
      ]
     },
     "execution_count": 18,
     "metadata": {},
     "output_type": "execute_result"
    }
   ],
   "source": [
    "# Here's the result, we can see that perspective1 is remarkably different from perspective2\n",
    "comp = perspective1.compare(perspective2)\n",
    "comp.getMedianCost()"
   ]
  },
  {
   "attachments": {},
   "cell_type": "markdown",
   "metadata": {},
   "source": [
    "So far, I have been rumbling about the **Perspective** object, and so I've said relatively nothing about the array of perspectives I was to talk about in this section. Well, with the information we have so far, all we need is to have a perspective for each of the element in that sample and our array of perspectives will be complete. I took care of that in the **Associations** object from the *associations_module*\n",
    "\n",
    "There's more than the array of Perspectives in that object though if you've taken a look. There are two ways to compare samples in the associations module and that's by comparing an array of perspective against another, and the second method is through comparing the associations. Take a look at it to examine the diference"
   ]
  },
  {
   "cell_type": "markdown",
   "metadata": {},
   "source": [
    "## Step 4: Compare the Arrays of Perspectives"
   ]
  },
  {
   "attachments": {},
   "cell_type": "markdown",
   "metadata": {},
   "source": [
    "I have briefly touched on the **Associations** class above. One of the things it does is that it enables us to create an array of perspectives and also handles how they are compared. We can create an **Associations** object as follows;"
   ]
  },
  {
   "cell_type": "code",
   "execution_count": 19,
   "metadata": {},
   "outputs": [],
   "source": [
    "assoc1 = Associations(my_sample.get_digit_array())\n",
    "assoc2 = Associations(my_sample.get_digit_array())"
   ]
  },
  {
   "cell_type": "markdown",
   "metadata": {},
   "source": [
    "We can compare the **Associations** objects the same way we did the **Compare** object back, which we can examine including seeing what was matched into what"
   ]
  },
  {
   "cell_type": "code",
   "execution_count": 27,
   "metadata": {},
   "outputs": [
    {
     "data": {
      "text/plain": [
       "0.0"
      ]
     },
     "execution_count": 27,
     "metadata": {},
     "output_type": "execute_result"
    }
   ],
   "source": [
    "comp = assoc1.compare(assoc2)\n",
    "comp.getMedianCost()"
   ]
  },
  {
   "attachments": {},
   "cell_type": "markdown",
   "metadata": {},
   "source": [
    "Here, I am examining what elements (read pixels) from assoc1 (sample1/image1) was matched into what elements of sample2. Since I was comparing the same elements (assoc1 == assoc2), you can see that all elements have been matched to themselves. element (9, 13) has been matched to (9, 13), (9, 14) has been matched to (9, 14), etc. \n"
   ]
  },
  {
   "cell_type": "code",
   "execution_count": 21,
   "metadata": {},
   "outputs": [
    {
     "data": {
      "text/plain": [
       "{(9, 13): (9, 13),\n",
       " (9, 14): (9, 14),\n",
       " (9, 15): (9, 15),\n",
       " (9, 16): (9, 16),\n",
       " (9, 17): (9, 17),\n",
       " (10, 8): (10, 8),\n",
       " (10, 9): (10, 9),\n",
       " (10, 10): (10, 10),\n",
       " (10, 11): (10, 11),\n",
       " (10, 12): (10, 12),\n",
       " (10, 18): (10, 18),\n",
       " (11, 6): (11, 6),\n",
       " (11, 7): (11, 7),\n",
       " (11, 19): (11, 19),\n",
       " (12, 19): (12, 19),\n",
       " (13, 18): (13, 18),\n",
       " (14, 18): (14, 18),\n",
       " (15, 17): (15, 17),\n",
       " (16, 16): (16, 16),\n",
       " (17, 15): (17, 15),\n",
       " (18, 14): (18, 14),\n",
       " (19, 13): (19, 13),\n",
       " (20, 12): (20, 12),\n",
       " (21, 11): (21, 11),\n",
       " (22, 10): (22, 10),\n",
       " (23, 9): (23, 9),\n",
       " (24, 8): (24, 8),\n",
       " (25, 7): (25, 7),\n",
       " (26, 7): (26, 7)}"
      ]
     },
     "execution_count": 21,
     "metadata": {},
     "output_type": "execute_result"
    }
   ],
   "source": [
    "comp.row_match"
   ]
  },
  {
   "cell_type": "markdown",
   "metadata": {},
   "source": [
    "Now, I try to compare two digits different digits by creating **Associations** object using them as samples. You can see that the match results are not as shown above, different elements from one samples were matched with elements at different positions in the other samplem"
   ]
  },
  {
   "cell_type": "code",
   "execution_count": 26,
   "metadata": {},
   "outputs": [
    {
     "data": {
      "image/png": "[encoded data removed]",
      "text/plain": [
       "<Figure size 432x288 with 1 Axes>"
      ]
     },
     "metadata": {
      "needs_background": "light"
     },
     "output_type": "display_data"
    }
   ],
   "source": [
    "four = Digit(4).get_digit_array()\n",
    "nine = Digit(9).get_digit_array()\n",
    "\n",
    "four_thinified = Sample(four, thinify=True)\n",
    "nine_thinified = Sample(nine, thinify=True)\n",
    "\n",
    "four_thinified.show()"
   ]
  },
  {
   "cell_type": "code",
   "execution_count": 28,
   "metadata": {},
   "outputs": [
    {
     "data": {
      "text/plain": [
       "10.56"
      ]
     },
     "execution_count": 28,
     "metadata": {},
     "output_type": "execute_result"
    }
   ],
   "source": [
    "assoc_four = Associations(four_thinified.get_digit_array())\n",
    "assoc_nine = Associations(nine_thinified.get_digit_array())\n",
    "\n",
    "comp = assoc_four.compare(assoc_nine)\n",
    "comp.getMedianCost()"
   ]
  },
  {
   "attachments": {},
   "cell_type": "markdown",
   "metadata": {},
   "source": [
    "As you can see from the result above, digits 4 and 9 are not as close to each other as 7 and 7 we got from above. That said, the primary approach to comparing that I did was getting the matching pattern.\n",
    "\n",
    "By design, the algorithm works by mapping elements from one sample to another to determine the best match using the principles I discussed [in the how it works page (Xaenr)](https://xaenr.com/how-it-works). The stuff I did such as creating orientations/angles above, and creating perspective was to force the best match to have elements mapped to regions in another sample where most of its neighbors in its original sample have been mapped.\n",
    "\n",
    "Let's take a look at mapping in comp"
   ]
  },
  {
   "cell_type": "code",
   "execution_count": 30,
   "metadata": {},
   "outputs": [
    {
     "data": {
      "text/plain": [
       "{(7, 12): (15, 16),\n",
       " (7, 13): (15, 17),\n",
       " (7, 14): (15, 22),\n",
       " (8, 11): (7, 16),\n",
       " (8, 15): (16, 19),\n",
       " (9, 11): (8, 16),\n",
       " (9, 15): (17, 19),\n",
       " (10, 11): (9, 16),\n",
       " (10, 15): (11, 17),\n",
       " (11, 11): (7, 9),\n",
       " (11, 15): (16, 15),\n",
       " (12, 12): (13, 17),\n",
       " (12, 14): (16, 14),\n",
       " (13, 13): (6, 15),\n",
       " (13, 14): (15, 18),\n",
       " (14, 13): (14, 18),\n",
       " (14, 15): (15, 19),\n",
       " (15, 14): (6, 8),\n",
       " (16, 15): (10, 16),\n",
       " (17, 15): (12, 17),\n",
       " (18, 15): (17, 11),\n",
       " (19, 15): (9, 10),\n",
       " (20, 15): (12, 9),\n",
       " (21, 14): (16, 12),\n",
       " (22, 14): (16, 13),\n",
       " (23, 14): (21, 19),\n",
       " (24, 14): (16, 8)}"
      ]
     },
     "execution_count": 30,
     "metadata": {},
     "output_type": "execute_result"
    }
   ],
   "source": [
    "comp.row_match"
   ]
  },
  {
   "attachments": {},
   "cell_type": "markdown",
   "metadata": {},
   "source": [
    "We can determine how close a sample is similar to another by checking how close elements that were neighbors in the original sample are in the new sample. In the case of the first comparison, we can see that for all elements their neighboring elements in the original sample were also their neighboring elements in the other sample after mapping. We can calculate the average distance of neighboring elements after mapping. The smaller this value is, the better the match"
   ]
  }
 ],
 "metadata": {
  "kernelspec": {
   "display_name": "base",
   "language": "python",
   "name": "python3"
  },
  "language_info": {
   "codemirror_mode": {
    "name": "ipython",
    "version": 3
   },
   "file_extension": ".py",
   "mimetype": "text/x-python",
   "name": "python",
   "nbconvert_exporter": "python",
   "pygments_lexer": "ipython3",
   "version": "3.8.8"
  },
  "orig_nbformat": 4,
  "vscode": {
   "interpreter": {
    "hash": "9ee0ec614d0abf57fdc8a4c4d1b373279e4d39776338528fabf72ad422f0613a"
   }
  }
 },
 "nbformat": 4,
 "nbformat_minor": 2
}
